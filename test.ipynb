{
 "cells": [
  {
   "cell_type": "code",
   "execution_count": 4,
   "metadata": {},
   "outputs": [],
   "source": [
    "import psycopg2\n",
    "from dotenv import load_dotenv\n",
    "\n",
    "load_dotenv()\n",
    "\n",
    "import os\n",
    "def check_db_entries():\n",
    "    connection = psycopg2.connect(\n",
    "        user=os.getenv(\"DB_USER\"),\n",
    "        password=os.getenv(\"DB_PASSWORD\"),\n",
    "        host=os.getenv(\"DB_HOST\"),\n",
    "        port=os.getenv(\"DB_PORT\"),\n",
    "        database=os.getenv(\"DB_DATABASE\")\n",
    "    )\n",
    "    try:\n",
    "        cursor = connection.cursor()\n",
    "        cursor.execute(\"SELECT * FROM MAILING_HISTORY;\")\n",
    "        #cursor.execute(f\"INSERT INTO MAILING_HISTORY (DATE) VALUES ('{current_date}');\")\n",
    "        records = cursor.fetchall()\n",
    "        for record in records:\n",
    "            print(record)\n",
    "        connection.commit()\n",
    "        #return records\n",
    "    except Exception as error:\n",
    "        print(f\"An error occurred: {error}\")\n",
    "    finally:\n",
    "        cursor.close()\n",
    "        connection.close()\n",
    "\n",
    "check_db_entries()\n"
   ]
  },
  {
   "cell_type": "code",
   "execution_count": 9,
   "metadata": {},
   "outputs": [
    {
     "data": {
      "text/plain": [
       "datetime.datetime(2024, 12, 17, 5, 31, 1, 477846, tzinfo=<DstTzInfo 'Europe/Berlin' CET+1:00:00 STD>)"
      ]
     },
     "execution_count": 9,
     "metadata": {},
     "output_type": "execute_result"
    }
   ],
   "source": [
    "from schedule import *\n",
    "current_date = get_current_date(time=True)\n",
    "current_date"
   ]
  },
  {
   "cell_type": "code",
   "execution_count": 1,
   "metadata": {},
   "outputs": [],
   "source": [
    "from db_interaction import *"
   ]
  },
  {
   "cell_type": "code",
   "execution_count": 2,
   "metadata": {},
   "outputs": [
    {
     "name": "stdout",
     "output_type": "stream",
     "text": [
      "Dropped table users\n",
      "Dropped table mailing_history\n",
      "Created table USERS\n",
      "Created table MAILING_HISTORY\n"
     ]
    }
   ],
   "source": [
    "drop_tables_DB()\n",
    "create_tables_DB()"
   ]
  },
  {
   "cell_type": "code",
   "execution_count": 8,
   "metadata": {},
   "outputs": [
    {
     "name": "stdout",
     "output_type": "stream",
     "text": [
      "An error occurred: duplicate key value violates unique constraint \"mailing_history_date_key\"\n",
      "DETAIL:  Key (date)=(2024-12-17) already exists.\n",
      "\n"
     ]
    }
   ],
   "source": [
    "add_mailing_date_DB(current_date)"
   ]
  },
  {
   "cell_type": "code",
   "execution_count": 12,
   "metadata": {},
   "outputs": [
    {
     "data": {
      "text/plain": [
       "datetime.date(2024, 12, 18)"
      ]
     },
     "execution_count": 12,
     "metadata": {},
     "output_type": "execute_result"
    }
   ],
   "source": [
    "from datetime import date, timedelta\n",
    "next_day = current_date + timedelta(days=1)\n",
    "next_day"
   ]
  },
  {
   "cell_type": "code",
   "execution_count": 9,
   "metadata": {},
   "outputs": [
    {
     "name": "stdout",
     "output_type": "stream",
     "text": [
      "(datetime.date(2024, 12, 17),)\n"
     ]
    }
   ],
   "source": [
    "check_db_entries()"
   ]
  },
  {
   "cell_type": "code",
   "execution_count": null,
   "metadata": {},
   "outputs": [],
   "source": [
    "current_time = get_current_date(time=True)"
   ]
  }
 ],
 "metadata": {
  "kernelspec": {
   "display_name": ".venv",
   "language": "python",
   "name": "python3"
  },
  "language_info": {
   "codemirror_mode": {
    "name": "ipython",
    "version": 3
   },
   "file_extension": ".py",
   "mimetype": "text/x-python",
   "name": "python",
   "nbconvert_exporter": "python",
   "pygments_lexer": "ipython3",
   "version": "3.11.9"
  }
 },
 "nbformat": 4,
 "nbformat_minor": 2
}
