{
 "cells": [
  {
   "cell_type": "code",
   "execution_count": 7,
   "metadata": {},
   "outputs": [
    {
     "data": {
      "text/plain": [
       "[]"
      ]
     },
     "execution_count": 7,
     "metadata": {},
     "output_type": "execute_result"
    }
   ],
   "source": [
    "import psycopg2\n",
    "from dotenv import load_dotenv\n",
    "\n",
    "load_dotenv()\n",
    "\n",
    "import os\n",
    "def check_db_entries():\n",
    "    connection = psycopg2.connect(\n",
    "        user=os.getenv(\"DB_USER\"),\n",
    "        password=os.getenv(\"DB_PASSWORD\"),\n",
    "        host=os.getenv(\"DB_HOST\"),\n",
    "        port=os.getenv(\"DB_PORT\"),\n",
    "        database=os.getenv(\"DB_DATABASE\")\n",
    "    )\n",
    "    try:\n",
    "        cursor = connection.cursor()\n",
    "        cursor.execute(\"SELECT * FROM USERS;\")\n",
    "        #cursor.execute(f\"INSERT INTO MAILING_HISTORY (DATE) VALUES ('{current_date}');\")\n",
    "        records = cursor.fetchall()\n",
    "        for record in records:\n",
    "            print(record)\n",
    "        connection.commit()\n",
    "        return records\n",
    "    except Exception as error:\n",
    "        print(f\"An error occurred: {error}\")\n",
    "    finally:\n",
    "        cursor.close()\n",
    "        connection.close()\n",
    "\n",
    "check_db_entries()\n"
   ]
  },
  {
   "cell_type": "code",
   "execution_count": 1,
   "metadata": {},
   "outputs": [
    {
     "name": "stdout",
     "output_type": "stream",
     "text": [
      "Added user 547495974 successfully.\n",
      "Added user 1194532650 successfully.\n",
      "Added user 7010939891 successfully.\n",
      "Added user 7760135403 successfully.\n",
      "Added user 5303965494 successfully.\n",
      "[(547495974, 'https://www.kusss.jku.at/kusss/published-calendar.action?token=aJSCi178m3-9rN6qZ1qt5zxxM_4baG2XDmaiXccN&lang=en', 0, 0), (1194532650, 'https://www.kusss.jku.at/kusss/published-calendar.action?token=M1ckSno0_TJR5tASv2U8jUPDLIC9csKhwEZLBe58&lang=en', 0, 0), (7010939891, 'https://www.kusss.jku.at/kusss/published-calendar.action?token=SnqTtuo3-SALSSUQhKTYyu8-jGk47kQCHO7AcRWo&lang=en', 0, 0), (7760135403, 'https://www.kusss.jku.at/kusss/published-calendar.action?token=igwGoYzotdLRNGTzQWI4yXWcxQTlgwZ3xUbgcvMx&lang=en', 0, 0), (5303965494, 'https://www.kusss.jku.at/kusss/published-calendar.action?token=yfqJ0X1_NO87gomi3JMOBuMNPaDIMOSEZNoQVfYt&lang=en', 0, 0)]\n",
      "\n"
     ]
    }
   ],
   "source": [
    "from db_interaction import *\n",
    "\n",
    "drop_tables_DB()"
   ]
  },
  {
   "cell_type": "code",
   "execution_count": 23,
   "metadata": {},
   "outputs": [],
   "source": [
    "from db_interaction import *"
   ]
  }
 ],
 "metadata": {
  "kernelspec": {
   "display_name": ".venv",
   "language": "python",
   "name": "python3"
  },
  "language_info": {
   "codemirror_mode": {
    "name": "ipython",
    "version": 3
   },
   "file_extension": ".py",
   "mimetype": "text/x-python",
   "name": "python",
   "nbconvert_exporter": "python",
   "pygments_lexer": "ipython3",
   "version": "3.11.9"
  }
 },
 "nbformat": 4,
 "nbformat_minor": 2
}
