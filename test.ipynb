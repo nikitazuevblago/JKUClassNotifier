{
 "cells": [
  {
   "cell_type": "code",
   "execution_count": 1,
   "metadata": {},
   "outputs": [
    {
     "name": "stdout",
     "output_type": "stream",
     "text": [
      "An error occurred: relation \"spendings\" does not exist\n",
      "LINE 1: SELECT * FROM SPENDINGS;\n",
      "                      ^\n",
      "\n"
     ]
    }
   ],
   "source": [
    "import psycopg2\n",
    "from dotenv import load_dotenv\n",
    "\n",
    "load_dotenv()\n",
    "\n",
    "import os\n",
    "def check_db_entries():\n",
    "    connection = psycopg2.connect(\n",
    "        user=os.getenv(\"DB_USER\"),\n",
    "        password=os.getenv(\"DB_PASSWORD\"),\n",
    "        host=os.getenv(\"DB_HOST\"),\n",
    "        port=os.getenv(\"DB_PORT\"),\n",
    "        database=os.getenv(\"DB_DATABASE\")\n",
    "    )\n",
    "    try:\n",
    "        cursor = connection.cursor()\n",
    "        cursor.execute(\"SELECT * FROM SPENDINGS;\")\n",
    "        records = cursor.fetchall()\n",
    "        for record in records:\n",
    "            print(record)\n",
    "    except Exception as error:\n",
    "        print(f\"An error occurred: {error}\")\n",
    "    finally:\n",
    "        cursor.close()\n",
    "        connection.close()\n",
    "\n",
    "check_db_entries()\n"
   ]
  },
  {
   "cell_type": "code",
   "execution_count": 2,
   "metadata": {},
   "outputs": [],
   "source": [
    "from db_interaction import *"
   ]
  },
  {
   "cell_type": "code",
   "execution_count": 3,
   "metadata": {},
   "outputs": [
    {
     "name": "stdout",
     "output_type": "stream",
     "text": [
      "Created table USERS\n"
     ]
    }
   ],
   "source": [
    "drop_tables_DB()\n",
    "create_tables_DB()"
   ]
  },
  {
   "cell_type": "code",
   "execution_count": null,
   "metadata": {},
   "outputs": [],
   "source": []
  }
 ],
 "metadata": {
  "kernelspec": {
   "display_name": ".venv",
   "language": "python",
   "name": "python3"
  },
  "language_info": {
   "codemirror_mode": {
    "name": "ipython",
    "version": 3
   },
   "file_extension": ".py",
   "mimetype": "text/x-python",
   "name": "python",
   "nbconvert_exporter": "python",
   "pygments_lexer": "ipython3",
   "version": "3.11.9"
  }
 },
 "nbformat": 4,
 "nbformat_minor": 2
}
