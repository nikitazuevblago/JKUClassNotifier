{
 "cells": [
  {
   "cell_type": "code",
   "execution_count": 110,
   "metadata": {},
   "outputs": [],
   "source": [
    "from datetime import datetime\n",
    "import pytz\n",
    "\n",
    "\n",
    "def get_current_date():\n",
    "\n",
    "    # Define CET timezone\n",
    "    cet_timezone = pytz.timezone(\"Europe/Berlin\")\n",
    "\n",
    "    # Get current time in CET\n",
    "    current_cet_date = datetime.now(cet_timezone).date()\n",
    "\n",
    "    return current_cet_date\n",
    "\n",
    "\n",
    "current_date = get_current_date()"
   ]
  },
  {
   "cell_type": "code",
   "execution_count": 111,
   "metadata": {},
   "outputs": [],
   "source": [
    "link = \"https://www.kusss.jku.at/kusss/published-calendar.action?token=yfqJ0X1_NO87gomi3JMOBuMNPaDIMOSEZNoQVfYt&lang=en\""
   ]
  },
  {
   "cell_type": "code",
   "execution_count": 113,
   "metadata": {},
   "outputs": [],
   "source": [
    "import requests\n",
    "from ics import Calendar\n",
    "\n",
    "\n",
    "def get_today_events(current_date):\n",
    "    response = requests.get(link)\n",
    "    calendar = Calendar(response.text)\n",
    "\n",
    "    today_events = []\n",
    "\n",
    "    for event in calendar.events:\n",
    "        calendar_date = event.begin.date()\n",
    "        if calendar_date==current_date:\n",
    "            today_events.append(event)\n",
    "\n",
    "    # Sorting events by time, from earliest\n",
    "    today_events = sorted(today_events, key=lambda event: event.begin)\n",
    "    \n",
    "    return today_events\n",
    "\n",
    "today_events = get_today_events(current_date)"
   ]
  },
  {
   "cell_type": "code",
   "execution_count": 114,
   "metadata": {},
   "outputs": [
    {
     "name": "stdout",
     "output_type": "stream",
     "text": [
      "📅 Good Morning, Students!\n",
      "Here’s your schedule for 2024-12-16:\n",
      "\n",
      "━━━━━━━━━━━━━━━━━━━━━━━\n",
      "🎯 Subject: VL Hands-on AI I\n",
      "👨‍🏫 Instructor: Rainer Dangl\n",
      "🗓 Time: 08:30 – 10:00\n",
      "🏫 Room: HS 7    \n",
      "━━━━━━━━━━━━━━━━━━━━━━━\n",
      "🎯 Subject: UE Hands-on AI I\n",
      "👨‍🏫 Instructor: Sohvi Iiri Maria Luukkonen\n",
      "🗓 Time: 10:15 – 11:45\n",
      "🏫 Room: S5 103  \n",
      "━━━━━━━━━━━━━━━━━━━━━━━\n",
      "🎯 Subject: KV Responsible AI\n",
      "👨‍🏫 Instructor: Martina Mara\n",
      "🗓 Time: 12:00 – 13:30\n",
      "🏫 Room: HS 7    \n",
      "━━━━━━━━━━━━━━━━━━━━━━━\n",
      "🎯 Subject: UE Logic\n",
      "👨‍🏫 Instructor: Martina Seidl\n",
      "🗓 Time: 19:00 – 19:45\n",
      "🏫 Room: HS 10   \n",
      "\n"
     ]
    }
   ],
   "source": [
    "def get_daily_schedule(date, events):\n",
    "    # Template for the header\n",
    "    header_template = (\n",
    "        \"📅 Good Morning, Students!\\n\"\n",
    "        \"Here’s your schedule for {date}:\\n\\n\"\n",
    "    )\n",
    "    \n",
    "    # Template for each event (subject/class)\n",
    "    event_template = (\n",
    "        \"━━━━━━━━━━━━━━━━━━━━━━━\\n\"\n",
    "        \"🎯 Subject: {course_title}\\n\"\n",
    "        \"👨‍🏫 Instructor: {instructor}\\n\"\n",
    "        \"🗓 Time: {start_time} – {end_time}\\n\"\n",
    "        \"🏫 Room: {location}\\n\"\n",
    "    )\n",
    "    \n",
    "    # Start the message with the header\n",
    "    message = header_template.format(date=date)\n",
    "    \n",
    "    # Add each event to the message\n",
    "    for event in events:\n",
    "        # Extract details from ICS event\n",
    "        summary = event.name  # e.g. \"KV Responsible AI / Martina Mara / (510101/2024W)\"\n",
    "        parts = summary.split(\" / \")\n",
    "        \n",
    "        if len(parts) >= 2:\n",
    "            course_title = parts[0].strip()\n",
    "            instructor = parts[1].strip()\n",
    "        else:\n",
    "            # If the format is different or incomplete\n",
    "            course_title = summary.strip()\n",
    "            instructor = \"N/A\"\n",
    "        \n",
    "        start_time = event.begin.format('HH:mm')\n",
    "        end_time = event.end.format('HH:mm')\n",
    "        location = event.location if event.location else \"N/A\"\n",
    "        \n",
    "        message += event_template.format(\n",
    "            course_title=course_title,\n",
    "            instructor=instructor,\n",
    "            start_time=start_time,\n",
    "            end_time=end_time,\n",
    "            location=location\n",
    "        )\n",
    "        \n",
    "    \n",
    "    return message\n",
    "\n",
    "message = get_daily_schedule(current_date, today_events)\n",
    "print(message)\n"
   ]
  },
  {
   "cell_type": "code",
   "execution_count": null,
   "metadata": {},
   "outputs": [],
   "source": []
  }
 ],
 "metadata": {
  "kernelspec": {
   "display_name": ".venv",
   "language": "python",
   "name": "python3"
  },
  "language_info": {
   "codemirror_mode": {
    "name": "ipython",
    "version": 3
   },
   "file_extension": ".py",
   "mimetype": "text/x-python",
   "name": "python",
   "nbconvert_exporter": "python",
   "pygments_lexer": "ipython3",
   "version": "3.11.9"
  }
 },
 "nbformat": 4,
 "nbformat_minor": 2
}
